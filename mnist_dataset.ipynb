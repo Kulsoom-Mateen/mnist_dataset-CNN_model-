{
 "cells": [
  {
   "cell_type": "code",
   "execution_count": 0,
   "metadata": {
    "colab": {},
    "colab_type": "code",
    "id": "E3cxsEo5c6TK"
   },
   "outputs": [],
   "source": [
    "import tensorflow as tf\n",
    "from tensorflow.keras import layers\n",
    "from tensorflow.keras import models\n",
    "from tensorflow.keras.datasets import mnist\n",
    "from tensorflow.keras.utils import to_categorical\n",
    "import numpy as np\n",
    "import matplotlib.pyplot as plt\n",
    "\n",
    "#mnist is dataset for hand made images\n",
    "#in image classification mnist dataset is like hello world\n",
    "#mnist dataset contains digits 0-9\n",
    "#to_categorical is used to convert classes into one hot encode or to make labels as 0 and 1\n",
    "#we are importing all libraries\n",
    "# in this example we are making dense fully connected network"
   ]
  },
  {
   "cell_type": "code",
   "execution_count": 2,
   "metadata": {
    "colab": {
     "base_uri": "https://localhost:8080/",
     "height": 51
    },
    "colab_type": "code",
    "executionInfo": {
     "elapsed": 1225,
     "status": "ok",
     "timestamp": 1585488686738,
     "user": {
      "displayName": "kulsoom mateen",
      "photoUrl": "",
      "userId": "00839047062891520867"
     },
     "user_tz": 240
    },
    "id": "-Z1QJnB6dwNj",
    "outputId": "dd0dd182-8218-4463-8d67-9f077d66dcdb"
   },
   "outputs": [
    {
     "name": "stdout",
     "output_type": "stream",
     "text": [
      "Downloading data from https://storage.googleapis.com/tensorflow/tf-keras-datasets/mnist.npz\n",
      "11493376/11490434 [==============================] - 0s 0us/step\n"
     ]
    }
   ],
   "source": [
    "#Loading Data\n",
    "(train_images, train_labels), (test_images, test_labels) = mnist.load_data()\n",
    "#round brackets"
   ]
  },
  {
   "cell_type": "code",
   "execution_count": 3,
   "metadata": {
    "colab": {
     "base_uri": "https://localhost:8080/",
     "height": 282
    },
    "colab_type": "code",
    "executionInfo": {
     "elapsed": 747,
     "status": "ok",
     "timestamp": 1585488763763,
     "user": {
      "displayName": "kulsoom mateen",
      "photoUrl": "",
      "userId": "00839047062891520867"
     },
     "user_tz": 240
    },
    "id": "REFQZJOCfWkp",
    "outputId": "78a12818-3348-4ae4-cba4-5368fe2566b2"
   },
   "outputs": [
    {
     "data": {
      "text/plain": [
       "<matplotlib.image.AxesImage at 0x7fd9d9f70fd0>"
      ]
     },
     "execution_count": 3,
     "metadata": {
      "tags": []
     },
     "output_type": "execute_result"
    },
    {
     "data": {
      "image/png": "[encoded data removed]",
      "text/plain": [
       "<Figure size 432x288 with 1 Axes>"
      ]
     },
     "metadata": {
      "tags": []
     },
     "output_type": "display_data"
    }
   ],
   "source": [
    "plt.imshow(train_images[0])"
   ]
  },
  {
   "cell_type": "code",
   "execution_count": 4,
   "metadata": {
    "colab": {
     "base_uri": "https://localhost:8080/",
     "height": 85
    },
    "colab_type": "code",
    "executionInfo": {
     "elapsed": 798,
     "status": "ok",
     "timestamp": 1585488823002,
     "user": {
      "displayName": "kulsoom mateen",
      "photoUrl": "",
      "userId": "00839047062891520867"
     },
     "user_tz": 240
    },
    "id": "GKwhOp2hfpeh",
    "outputId": "b2d65a29-ea0f-4284-e513-88d3c6a04a63"
   },
   "outputs": [
    {
     "name": "stdout",
     "output_type": "stream",
     "text": [
      "train_images.shape:  (60000, 28, 28)\n",
      "train_labels.shape:  (60000,)\n",
      "test_images.shape:  (10000, 28, 28)\n",
      "test_labels.shape:  (10000,)\n"
     ]
    }
   ],
   "source": [
    "#Shapes of the dataset\n",
    "print('train_images.shape: ', train_images.shape)\n",
    "print('train_labels.shape: ', train_labels.shape)\n",
    "print('test_images.shape: ', test_images.shape)\n",
    "print('test_labels.shape: ', test_labels.shape)"
   ]
  },
  {
   "cell_type": "code",
   "execution_count": 5,
   "metadata": {
    "colab": {
     "base_uri": "https://localhost:8080/",
     "height": 34
    },
    "colab_type": "code",
    "executionInfo": {
     "elapsed": 1466,
     "status": "ok",
     "timestamp": 1585488866091,
     "user": {
      "displayName": "kulsoom mateen",
      "photoUrl": "",
      "userId": "00839047062891520867"
     },
     "user_tz": 240
    },
    "id": "-bcKoZGef1eg",
    "outputId": "82561a34-35cf-4978-ccb2-06bb0dd07bd3"
   },
   "outputs": [
    {
     "data": {
      "text/plain": [
       "5"
      ]
     },
     "execution_count": 5,
     "metadata": {
      "tags": []
     },
     "output_type": "execute_result"
    }
   ],
   "source": [
    "train_labels[0]"
   ]
  },
  {
   "cell_type": "code",
   "execution_count": 0,
   "metadata": {
    "colab": {},
    "colab_type": "code",
    "id": "1GvXGmYbgCSg"
   },
   "outputs": [],
   "source": [
    "train_labels = to_categorical(train_labels)\n",
    "test_labels = to_categorical(test_labels)"
   ]
  },
  {
   "cell_type": "code",
   "execution_count": 7,
   "metadata": {
    "colab": {
     "base_uri": "https://localhost:8080/",
     "height": 34
    },
    "colab_type": "code",
    "executionInfo": {
     "elapsed": 972,
     "status": "ok",
     "timestamp": 1585488979923,
     "user": {
      "displayName": "kulsoom mateen",
      "photoUrl": "",
      "userId": "00839047062891520867"
     },
     "user_tz": 240
    },
    "id": "C7QdMiYFgMYa",
    "outputId": "6d338706-b5b7-4b21-f2f5-fc6b9a952ce2"
   },
   "outputs": [
    {
     "data": {
      "text/plain": [
       "array([0., 0., 0., 0., 0., 1., 0., 0., 0., 0.], dtype=float32)"
      ]
     },
     "execution_count": 7,
     "metadata": {
      "tags": []
     },
     "output_type": "execute_result"
    }
   ],
   "source": [
    "train_labels[0]\n",
    "#now train_labels convert in 1D array"
   ]
  },
  {
   "cell_type": "markdown",
   "metadata": {
    "colab_type": "text",
    "id": "Xb7qLrpTjd1z"
   },
   "source": [
    "# Dense Model"
   ]
  },
  {
   "cell_type": "code",
   "execution_count": 8,
   "metadata": {
    "colab": {
     "base_uri": "https://localhost:8080/",
     "height": 255
    },
    "colab_type": "code",
    "executionInfo": {
     "elapsed": 814,
     "status": "ok",
     "timestamp": 1585489834460,
     "user": {
      "displayName": "kulsoom mateen",
      "photoUrl": "",
      "userId": "00839047062891520867"
     },
     "user_tz": 240
    },
    "id": "cUPhe9Q3jrXX",
    "outputId": "64888822-3d14-41c9-d492-521c3db8d2db"
   },
   "outputs": [
    {
     "name": "stdout",
     "output_type": "stream",
     "text": [
      "Model: \"sequential\"\n",
      "_________________________________________________________________\n",
      "Layer (type)                 Output Shape              Param #   \n",
      "=================================================================\n",
      "dense (Dense)                (None, 64)                50240     \n",
      "_________________________________________________________________\n",
      "dense_1 (Dense)              (None, 64)                4160      \n",
      "_________________________________________________________________\n",
      "dense_2 (Dense)              (None, 10)                650       \n",
      "=================================================================\n",
      "Total params: 55,050\n",
      "Trainable params: 55,050\n",
      "Non-trainable params: 0\n",
      "_________________________________________________________________\n"
     ]
    }
   ],
   "source": [
    "# Initializes a sequential model\n",
    "dense_model = models.Sequential()\n",
    "\n",
    "# First layer\n",
    "dense_model.add(layers.Dense(64, activation='relu', input_shape=(784,)))\n",
    "\n",
    "# Second layer\n",
    "dense_model.add(layers.Dense(64, activation='relu'))\n",
    "\n",
    "# Output layer\n",
    "dense_model.add(layers.Dense(10, activation='softmax'))\n",
    "dense_model.summary()"
   ]
  },
  {
   "cell_type": "code",
   "execution_count": 0,
   "metadata": {
    "colab": {},
    "colab_type": "code",
    "id": "QHU-DhvMju4S"
   },
   "outputs": [],
   "source": [
    "# Compile the model\n",
    "dense_model.compile(optimizer='adam', \n",
    "           loss='categorical_crossentropy', \n",
    "           metrics=['accuracy'])"
   ]
  },
  {
   "cell_type": "code",
   "execution_count": 10,
   "metadata": {
    "colab": {
     "base_uri": "https://localhost:8080/",
     "height": 224
    },
    "colab_type": "code",
    "executionInfo": {
     "elapsed": 17041,
     "status": "ok",
     "timestamp": 1585490351558,
     "user": {
      "displayName": "kulsoom mateen",
      "photoUrl": "",
      "userId": "00839047062891520867"
     },
     "user_tz": 240
    },
    "id": "sD_6CEpplbOa",
    "outputId": "752229ff-2df6-49e0-f611-32ad28526aaf"
   },
   "outputs": [
    {
     "name": "stdout",
     "output_type": "stream",
     "text": [
      "Epoch 1/5\n",
      "1500/1500 [==============================] - 3s 2ms/step - loss: 2.1311 - accuracy: 0.8107 - val_loss: 0.5585 - val_accuracy: 0.8588\n",
      "Epoch 2/5\n",
      "1500/1500 [==============================] - 3s 2ms/step - loss: 0.4492 - accuracy: 0.8889 - val_loss: 0.3861 - val_accuracy: 0.9082\n",
      "Epoch 3/5\n",
      "1500/1500 [==============================] - 3s 2ms/step - loss: 0.3578 - accuracy: 0.9105 - val_loss: 0.3719 - val_accuracy: 0.9083\n",
      "Epoch 4/5\n",
      "1500/1500 [==============================] - 3s 2ms/step - loss: 0.3098 - accuracy: 0.9197 - val_loss: 0.3044 - val_accuracy: 0.9246\n",
      "Epoch 5/5\n",
      "1500/1500 [==============================] - 3s 2ms/step - loss: 0.2908 - accuracy: 0.9255 - val_loss: 0.3161 - val_accuracy: 0.9237\n"
     ]
    },
    {
     "data": {
      "text/plain": [
       "<tensorflow.python.keras.callbacks.History at 0x7fd9d373b1d0>"
      ]
     },
     "execution_count": 10,
     "metadata": {
      "tags": []
     },
     "output_type": "execute_result"
    }
   ],
   "source": [
    "# Reshape the data to two-dimensional array\n",
    "dense_train_data = train_images.reshape(train_images.shape[0], 784)\n",
    "\n",
    "# Reshape the data to two-dimensional array\n",
    "dense_test_images = test_images.reshape(test_images.shape[0], 784)\n",
    "\n",
    "# Fit the model\n",
    "dense_model.fit(dense_train_data, train_labels, validation_split=0.2, epochs=5)"
   ]
  },
  {
   "cell_type": "code",
   "execution_count": 11,
   "metadata": {
    "colab": {
     "base_uri": "https://localhost:8080/",
     "height": 51
    },
    "colab_type": "code",
    "executionInfo": {
     "elapsed": 1197,
     "status": "ok",
     "timestamp": 1585490473883,
     "user": {
      "displayName": "kulsoom mateen",
      "photoUrl": "",
      "userId": "00839047062891520867"
     },
     "user_tz": 240
    },
    "id": "YYutX6MLlpJj",
    "outputId": "edaef212-7a94-4687-dd8b-47a4e2486d62"
   },
   "outputs": [
    {
     "name": "stdout",
     "output_type": "stream",
     "text": [
      "313/313 [==============================] - 0s 1ms/step - loss: 0.3038 - accuracy: 0.9258\n"
     ]
    },
    {
     "data": {
      "text/plain": [
       "[0.3038269579410553, 0.9258000254631042]"
      ]
     },
     "execution_count": 11,
     "metadata": {
      "tags": []
     },
     "output_type": "execute_result"
    }
   ],
   "source": [
    "# Evaluate the model\n",
    "dense_model.evaluate(dense_test_images, test_labels)"
   ]
  },
  {
   "cell_type": "code",
   "execution_count": 0,
   "metadata": {
    "colab": {},
    "colab_type": "code",
    "id": "jxiaxOkBmK4o"
   },
   "outputs": [],
   "source": []
  },
  {
   "cell_type": "markdown",
   "metadata": {
    "colab_type": "text",
    "id": "hqURmoCDmOEz"
   },
   "source": [
    "up till here we covered fully connected dense layer."
   ]
  },
  {
   "cell_type": "markdown",
   "metadata": {
    "colab_type": "text",
    "id": "A9PcdMVfmoj-"
   },
   "source": [
    "# CNN\n",
    "\n"
   ]
  },
  {
   "cell_type": "code",
   "execution_count": 0,
   "metadata": {
    "colab": {},
    "colab_type": "code",
    "id": "Jq5epL2Fmwm1"
   },
   "outputs": [],
   "source": [
    "# Initializes a sequential model\n",
    "model = models.Sequential()\n",
    "\n",
    "# Adding a 2D Convolutional Layer\n",
    "model.add(layers.Conv2D(32, (3, 3), activation='relu', input_shape=(28, 28, 1)))\n",
    "\n",
    "# Adding 1st Max Pooling Layer\n",
    "model.add(layers.MaxPooling2D((2, 2)))\n",
    "\n",
    "# Adding 2nd 2D Convolutional Layer\n",
    "model.add(layers.Conv2D(64, (3, 3), activation='relu'))\n",
    "\n",
    "# Adding 2nd Max Pooling Layer\n",
    "model.add(layers.MaxPooling2D((2, 2)))\n",
    "\n",
    "# Adding 3rd 2D Convolutional Layer\n",
    "model.add(layers.Conv2D(64, (3, 3), activation='relu'))\n",
    "\n",
    "# Adding a flattening layer to convert Filter maps into 1D Tensor\n",
    "model.add(layers.Flatten())\n",
    "\n",
    "# Adding Dense Layer before the outpur layer\n",
    "model.add(layers.Dense(64, activation='relu'))\n",
    "\n",
    "# Output Layer\n",
    "model.add(layers.Dense(10, activation='softmax'))"
   ]
  },
  {
   "cell_type": "code",
   "execution_count": 13,
   "metadata": {
    "colab": {
     "base_uri": "https://localhost:8080/",
     "height": 425
    },
    "colab_type": "code",
    "executionInfo": {
     "elapsed": 1253,
     "status": "ok",
     "timestamp": 1585491366715,
     "user": {
      "displayName": "kulsoom mateen",
      "photoUrl": "",
      "userId": "00839047062891520867"
     },
     "user_tz": 240
    },
    "id": "iBTJTdrqm7xU",
    "outputId": "35918f7f-23b7-46a5-b5c5-9fbb7e2ce194"
   },
   "outputs": [
    {
     "name": "stdout",
     "output_type": "stream",
     "text": [
      "Model: \"sequential_1\"\n",
      "_________________________________________________________________\n",
      "Layer (type)                 Output Shape              Param #   \n",
      "=================================================================\n",
      "conv2d (Conv2D)              (None, 26, 26, 32)        320       \n",
      "_________________________________________________________________\n",
      "max_pooling2d (MaxPooling2D) (None, 13, 13, 32)        0         \n",
      "_________________________________________________________________\n",
      "conv2d_1 (Conv2D)            (None, 11, 11, 64)        18496     \n",
      "_________________________________________________________________\n",
      "max_pooling2d_1 (MaxPooling2 (None, 5, 5, 64)          0         \n",
      "_________________________________________________________________\n",
      "conv2d_2 (Conv2D)            (None, 3, 3, 64)          36928     \n",
      "_________________________________________________________________\n",
      "flatten (Flatten)            (None, 576)               0         \n",
      "_________________________________________________________________\n",
      "dense_3 (Dense)              (None, 64)                36928     \n",
      "_________________________________________________________________\n",
      "dense_4 (Dense)              (None, 10)                650       \n",
      "=================================================================\n",
      "Total params: 93,322\n",
      "Trainable params: 93,322\n",
      "Non-trainable params: 0\n",
      "_________________________________________________________________\n"
     ]
    }
   ],
   "source": [
    "model.summary()"
   ]
  },
  {
   "cell_type": "code",
   "execution_count": 0,
   "metadata": {
    "colab": {},
    "colab_type": "code",
    "id": "T3Acq7Wypkzq"
   },
   "outputs": [],
   "source": [
    "# Reshape the Train Image Array for compatible with CNN\n",
    "train_images = train_images.reshape((60000, 28, 28, 1))\n",
    "\n",
    "# Normalizing the Train Images\n",
    "train_images = train_images.astype('float32') / 255\n",
    "\n",
    "# Reshape the Test Image Array for compatible with CNN\n",
    "test_images = test_images.reshape((10000, 28, 28, 1))\n",
    "\n",
    "# Normalizing the Test Images\n",
    "test_images = test_images.astype('float32') / 255\n"
   ]
  },
  {
   "cell_type": "code",
   "execution_count": 15,
   "metadata": {
    "colab": {
     "base_uri": "https://localhost:8080/",
     "height": 204
    },
    "colab_type": "code",
    "executionInfo": {
     "elapsed": 241546,
     "status": "ok",
     "timestamp": 1585492135984,
     "user": {
      "displayName": "kulsoom mateen",
      "photoUrl": "",
      "userId": "00839047062891520867"
     },
     "user_tz": 240
    },
    "id": "Q8GPkvbpqFSu",
    "outputId": "4b3e6d16-9b5c-4d89-c3a8-4f5d16582705"
   },
   "outputs": [
    {
     "name": "stdout",
     "output_type": "stream",
     "text": [
      "Epoch 1/5\n",
      "938/938 [==============================] - 48s 51ms/step - loss: 0.1712 - accuracy: 0.9457\n",
      "Epoch 2/5\n",
      "938/938 [==============================] - 48s 51ms/step - loss: 0.0471 - accuracy: 0.9854\n",
      "Epoch 3/5\n",
      "938/938 [==============================] - 48s 51ms/step - loss: 0.0314 - accuracy: 0.9904\n",
      "Epoch 4/5\n",
      "938/938 [==============================] - 48s 51ms/step - loss: 0.0243 - accuracy: 0.9922\n",
      "Epoch 5/5\n",
      "938/938 [==============================] - 47s 51ms/step - loss: 0.0193 - accuracy: 0.9943\n"
     ]
    },
    {
     "data": {
      "text/plain": [
       "<tensorflow.python.keras.callbacks.History at 0x7fd9d084b9e8>"
      ]
     },
     "execution_count": 15,
     "metadata": {
      "tags": []
     },
     "output_type": "execute_result"
    }
   ],
   "source": [
    "#Compiling the CNN Model\n",
    "model.compile(optimizer='rmsprop', loss='categorical_crossentropy', metrics=['accuracy'])\n",
    "\n",
    "#Fitting the CNN Model\n",
    "model.fit(train_images, train_labels, epochs=5, batch_size=64)"
   ]
  },
  {
   "cell_type": "code",
   "execution_count": 0,
   "metadata": {
    "colab": {},
    "colab_type": "code",
    "id": "Ta_rSTwRrl9-"
   },
   "outputs": [],
   "source": [
    "#this is the difference between dense layer and convolutional network\n",
    "#in dense layer weights are in \n",
    "#in Convnets weights are in kernel rather than in \n",
    "#in convnet number of weights are less"
   ]
  },
  {
   "cell_type": "code",
   "execution_count": 17,
   "metadata": {
    "colab": {
     "base_uri": "https://localhost:8080/",
     "height": 34
    },
    "colab_type": "code",
    "executionInfo": {
     "elapsed": 3713,
     "status": "ok",
     "timestamp": 1585492298870,
     "user": {
      "displayName": "kulsoom mateen",
      "photoUrl": "",
      "userId": "00839047062891520867"
     },
     "user_tz": 240
    },
    "id": "j4s16E1ms9f2",
    "outputId": "94130d9b-2650-4805-dbc4-2ba571e693c0"
   },
   "outputs": [
    {
     "name": "stdout",
     "output_type": "stream",
     "text": [
      "313/313 [==============================] - 3s 9ms/step - loss: 0.0249 - accuracy: 0.9921\n"
     ]
    }
   ],
   "source": [
    "#Evaluate the CNN Model\n",
    "test_loss, test_acc = model.evaluate(test_images, test_labels)"
   ]
  },
  {
   "cell_type": "code",
   "execution_count": 18,
   "metadata": {
    "colab": {
     "base_uri": "https://localhost:8080/",
     "height": 34
    },
    "colab_type": "code",
    "executionInfo": {
     "elapsed": 2725,
     "status": "ok",
     "timestamp": 1585492330393,
     "user": {
      "displayName": "kulsoom mateen",
      "photoUrl": "",
      "userId": "00839047062891520867"
     },
     "user_tz": 240
    },
    "id": "DVbxPE_RtH04",
    "outputId": "b0f34abf-01e3-40f4-d721-d1e1aa6c3144"
   },
   "outputs": [
    {
     "data": {
      "text/plain": [
       "0.9921000003814697"
      ]
     },
     "execution_count": 18,
     "metadata": {
      "tags": []
     },
     "output_type": "execute_result"
    }
   ],
   "source": [
    "test_acc"
   ]
  },
  {
   "cell_type": "code",
   "execution_count": 0,
   "metadata": {
    "colab": {},
    "colab_type": "code",
    "id": "EwzF29RstPxJ"
   },
   "outputs": [],
   "source": []
  }
 ],
 "metadata": {
  "colab": {
   "authorship_tag": "ABX9TyPcIYz68adt2BiU/FsZhQzh",
   "collapsed_sections": [],
   "name": "Untitled0.ipynb",
   "provenance": []
  },
  "kernelspec": {
   "display_name": "Python 3",
   "language": "python",
   "name": "python3"
  },
  "language_info": {
   "codemirror_mode": {
    "name": "ipython",
    "version": 3
   },
   "file_extension": ".py",
   "mimetype": "text/x-python",
   "name": "python",
   "nbconvert_exporter": "python",
   "pygments_lexer": "ipython3",
   "version": "3.7.3"
  }
 },
 "nbformat": 4,
 "nbformat_minor": 1
}
